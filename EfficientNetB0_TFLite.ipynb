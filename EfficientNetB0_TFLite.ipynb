{
  "nbformat": 4,
  "nbformat_minor": 0,
  "metadata": {
    "colab": {
      "name": "EfficientNetB0_TFLite.ipynb",
      "provenance": [],
      "collapsed_sections": [],
      "machine_shape": "hm"
    },
    "kernelspec": {
      "name": "python3",
      "display_name": "Python 3"
    },
    "language_info": {
      "name": "python"
    },
    "accelerator": "TPU"
  },
  "cells": [
    {
      "cell_type": "code",
      "source": [
        "from google.colab import drive\n",
        "drive.mount('/content/gdrive')"
      ],
      "metadata": {
        "colab": {
          "base_uri": "https://localhost:8080/"
        },
        "id": "Bozj6yr_DIt0",
        "outputId": "88f98a42-4dd5-49a3-de97-d54b1709a61f"
      },
      "execution_count": null,
      "outputs": [
        {
          "output_type": "stream",
          "name": "stdout",
          "text": [
            "Drive already mounted at /content/gdrive; to attempt to forcibly remount, call drive.mount(\"/content/gdrive\", force_remount=True).\n"
          ]
        }
      ]
    },
    {
      "cell_type": "code",
      "source": [
        "#import os\n",
        "#os.environ['KAGGLE_CONFIG_DIR'] = \"/content/gdrive/MyDrive/Colab Notebooks/Kaggle\""
      ],
      "metadata": {
        "id": "XFU9VNiWDaaZ"
      },
      "execution_count": null,
      "outputs": []
    },
    {
      "cell_type": "code",
      "source": [
        "#!pip install kaggle"
      ],
      "metadata": {
        "id": "5n2VFyZhDh8X"
      },
      "execution_count": null,
      "outputs": []
    },
    {
      "cell_type": "code",
      "source": [
        "#!kaggle datasets download -d \"tawsifurrahman/covid19-radiography-database\""
      ],
      "metadata": {
        "id": "YlRtnuIUDjmL"
      },
      "execution_count": null,
      "outputs": []
    },
    {
      "cell_type": "code",
      "source": [
        "#!kaggle config set -n path -v /content"
      ],
      "metadata": {
        "id": "WvQW5SDrEwBu"
      },
      "execution_count": null,
      "outputs": []
    },
    {
      "cell_type": "code",
      "source": [
        "#!ls /content"
      ],
      "metadata": {
        "id": "ZdXpNAFUE8TG"
      },
      "execution_count": null,
      "outputs": []
    },
    {
      "cell_type": "code",
      "source": [
        "#!unzip /content/datasets/tawsifurrahman/covid19-radiography-database/covid19-radiography-database.zip"
      ],
      "metadata": {
        "id": "ZE0reU5EFScI"
      },
      "execution_count": null,
      "outputs": []
    },
    {
      "cell_type": "code",
      "source": [
        "import tensorflow as tf\n",
        "import numpy as np\n",
        "import matplotlib.pyplot as plt"
      ],
      "metadata": {
        "id": "Y_j9O8oKC-qp"
      },
      "execution_count": null,
      "outputs": []
    },
    {
      "cell_type": "code",
      "source": [
        "batch_size = 32\n",
        "img_height = 224 #180\n",
        "img_width = 224 #180\n",
        "IMAGE_SIZE = (img_height, img_width)"
      ],
      "metadata": {
        "id": "M1HCXRjcQyjK"
      },
      "execution_count": null,
      "outputs": []
    },
    {
      "cell_type": "code",
      "source": [
        "labels = ['Normal', 'Covid']"
      ],
      "metadata": {
        "id": "tRAB93ArQ_oj"
      },
      "execution_count": null,
      "outputs": []
    },
    {
      "cell_type": "code",
      "source": [
        "#!mkdir '/content/input'"
      ],
      "metadata": {
        "id": "Qu1D7UVB96Sb"
      },
      "execution_count": null,
      "outputs": []
    },
    {
      "cell_type": "code",
      "source": [
        "#!mv '/content/COVID-19_Radiography_Dataset/COVID/images' '/content/input'\n",
        "# then rename 'images' folder to 'COVID' manually"
      ],
      "metadata": {
        "id": "1vvic8Oi-DMg"
      },
      "execution_count": null,
      "outputs": []
    },
    {
      "cell_type": "code",
      "source": [
        "#!mv '/content/COVID-19_Radiography_Dataset/Normal/images' '/content/input'\n",
        "# then rename 'images' folder to 'Normal' manually"
      ],
      "metadata": {
        "id": "CgcpNyVN-V_F"
      },
      "execution_count": null,
      "outputs": []
    },
    {
      "cell_type": "code",
      "source": [
        "#!rm -rf '/content/input/.ipynb_checkpoints'"
      ],
      "metadata": {
        "id": "vQFIpRpu-8nD"
      },
      "execution_count": null,
      "outputs": []
    },
    {
      "cell_type": "code",
      "source": [
        "#base_dir = '/content/input'\n",
        "train_ds = tf.keras.preprocessing.image_dataset_from_directory(\n",
        "  \"/content/gdrive/MyDrive/CMPE255/Final_Project/Train/\",\n",
        "  image_size=(img_height, img_width),\n",
        "  batch_size=batch_size)"
      ],
      "metadata": {
        "colab": {
          "base_uri": "https://localhost:8080/"
        },
        "id": "FhLlNacwSoN2",
        "outputId": "c4d4941c-2e3e-4ea0-b28a-1743fc6650c2"
      },
      "execution_count": null,
      "outputs": [
        {
          "output_type": "stream",
          "name": "stdout",
          "text": [
            "Found 224 files belonging to 2 classes.\n"
          ]
        }
      ]
    },
    {
      "cell_type": "code",
      "source": [
        "test_ds = tf.keras.preprocessing.image_dataset_from_directory(\n",
        "  \"/content/gdrive/MyDrive/CMPE255/Final_Project/Test/\",\n",
        "  image_size=(img_height, img_width),\n",
        "  batch_size=batch_size)"
      ],
      "metadata": {
        "colab": {
          "base_uri": "https://localhost:8080/"
        },
        "id": "2LmWddkRFY3e",
        "outputId": "be844e1f-abb8-4a88-f6f4-d7c9939f7b0c"
      },
      "execution_count": null,
      "outputs": [
        {
          "output_type": "stream",
          "name": "stdout",
          "text": [
            "Found 40 files belonging to 2 classes.\n"
          ]
        }
      ]
    },
    {
      "cell_type": "code",
      "source": [
        "val_ds = tf.keras.preprocessing.image_dataset_from_directory(\n",
        "  \"/content/gdrive/MyDrive/CMPE255/Final_Project/Val/\",\n",
        "  image_size=(img_height, img_width),\n",
        "  batch_size=batch_size)"
      ],
      "metadata": {
        "colab": {
          "base_uri": "https://localhost:8080/"
        },
        "id": "B4jSFP_j0yRz",
        "outputId": "14fbc656-bdf3-4098-d6be-b19f028f5bf4"
      },
      "execution_count": null,
      "outputs": [
        {
          "output_type": "stream",
          "name": "stdout",
          "text": [
            "Found 60 files belonging to 2 classes.\n"
          ]
        }
      ]
    },
    {
      "cell_type": "code",
      "source": [
        "#class_names = np.array(train_ds.class_names)\n",
        "#print(class_names)"
      ],
      "metadata": {
        "id": "NEVMs8id035p"
      },
      "execution_count": null,
      "outputs": []
    },
    {
      "cell_type": "code",
      "source": [
        "class_names = [\"Normal\", \"Covid\"]"
      ],
      "metadata": {
        "id": "ZBtTg8ZXFFnb"
      },
      "execution_count": null,
      "outputs": []
    },
    {
      "cell_type": "code",
      "source": [
        "AUTOTUNE = tf.data.AUTOTUNE\n",
        "train_ds = train_ds.cache().prefetch(buffer_size=AUTOTUNE)"
      ],
      "metadata": {
        "id": "DCNXFUyD4Pmd"
      },
      "execution_count": null,
      "outputs": []
    },
    {
      "cell_type": "code",
      "source": [
        "for image_batch, labels_batch in train_ds:\n",
        "  print(image_batch.shape)\n",
        "  print(labels_batch.shape)\n",
        "  break"
      ],
      "metadata": {
        "colab": {
          "base_uri": "https://localhost:8080/"
        },
        "id": "Kzgwqoax4SJE",
        "outputId": "22975eb1-1706-4034-f118-0c30f6ca85b1"
      },
      "execution_count": null,
      "outputs": [
        {
          "output_type": "stream",
          "name": "stdout",
          "text": [
            "(32, 224, 224, 3)\n",
            "(32,)\n"
          ]
        }
      ]
    },
    {
      "cell_type": "code",
      "source": [
        "numclasses=len(class_names)\n",
        "def create_model():\n",
        "    IMAGE_SIZE = (img_height, img_width)\n",
        "    IMG_SHAPE = IMAGE_SIZE + (3,)\n",
        "    pretrained_model = tf.keras.applications.EfficientNetB0(weights='imagenet', include_top=False)\n",
        "\n",
        "    preprocess_input = tf.keras.applications.efficientnet.preprocess_input\n",
        "    \n",
        "    pretrained_model.trainable = False\n",
        "\n",
        "    header = tf.keras.Sequential([\n",
        "        tf.keras.layers.GlobalAveragePooling2D(),\n",
        "        #tf.keras.layers.Flatten(),\n",
        "        tf.keras.layers.Dropout(0.2),\n",
        "        tf.keras.layers.Dense(numclasses, activation='softmax', dtype=tf.float32) # the float32 is needed on softmax layer when using mixed precision\n",
        "    ])\n",
        "\n",
        "    inputs = tf.keras.Input(shape=IMG_SHAPE)\n",
        "    x = preprocess_input(inputs)\n",
        "    x = pretrained_model(x, training=False)\n",
        "    outputs = header(x)\n",
        "    model = tf.keras.Model(inputs, outputs)\n",
        "\n",
        "    base_learning_rate = 0.0001\n",
        "    model.compile(optimizer=tf.keras.optimizers.Adam(lr=base_learning_rate),\n",
        "              #loss=tf.keras.losses.BinaryCrossentropy(from_logits=True),\n",
        "              loss=tf.losses.SparseCategoricalCrossentropy(from_logits=True),\n",
        "              metrics=['accuracy'])\n",
        "\n",
        "    return model"
      ],
      "metadata": {
        "id": "arbDhjZG4T6O"
      },
      "execution_count": null,
      "outputs": []
    },
    {
      "cell_type": "code",
      "source": [
        "model = create_model()\n",
        "model.summary()"
      ],
      "metadata": {
        "colab": {
          "base_uri": "https://localhost:8080/"
        },
        "id": "TZtDXspn4hIC",
        "outputId": "4916a451-d832-476c-8224-00ef08eb4d11"
      },
      "execution_count": null,
      "outputs": [
        {
          "output_type": "stream",
          "name": "stdout",
          "text": [
            "Model: \"model\"\n",
            "_________________________________________________________________\n",
            " Layer (type)                Output Shape              Param #   \n",
            "=================================================================\n",
            " input_4 (InputLayer)        [(None, 224, 224, 3)]     0         \n",
            "                                                                 \n",
            " efficientnetb0 (Functional)  (None, None, None, 1280)  4049571  \n",
            "                                                                 \n",
            " sequential_1 (Sequential)   (None, 2)                 2562      \n",
            "                                                                 \n",
            "=================================================================\n",
            "Total params: 4,052,133\n",
            "Trainable params: 2,562\n",
            "Non-trainable params: 4,049,571\n",
            "_________________________________________________________________\n"
          ]
        },
        {
          "output_type": "stream",
          "name": "stderr",
          "text": [
            "/usr/local/lib/python3.7/dist-packages/keras/optimizer_v2/adam.py:105: UserWarning: The `lr` argument is deprecated, use `learning_rate` instead.\n",
            "  super(Adam, self).__init__(name, **kwargs)\n"
          ]
        }
      ]
    },
    {
      "cell_type": "code",
      "source": [
        "import time\n",
        "start_time = time.time()\n",
        "EPOCHS=20\n",
        "history = model.fit(train_ds, validation_data=val_ds,epochs=EPOCHS)\n",
        "\n",
        "final_accuracy = history.history[\"val_accuracy\"][-5:]\n",
        "print(\"FINAL ACCURACY MEAN-5: \", np.mean(final_accuracy))\n",
        "print(\"TRAINING TIME: \", time.time() - start_time, \" sec\")"
      ],
      "metadata": {
        "colab": {
          "base_uri": "https://localhost:8080/"
        },
        "id": "WJ6SaZjB7mic",
        "outputId": "ad9e688c-a215-4261-da59-1e179917a474"
      },
      "execution_count": null,
      "outputs": [
        {
          "output_type": "stream",
          "name": "stdout",
          "text": [
            "Epoch 1/20\n"
          ]
        },
        {
          "output_type": "stream",
          "name": "stderr",
          "text": [
            "/usr/local/lib/python3.7/dist-packages/tensorflow/python/util/dispatch.py:1082: UserWarning: \"`sparse_categorical_crossentropy` received `from_logits=True`, but the `output` argument was produced by a sigmoid or softmax activation and thus does not represent logits. Was this intended?\"\n",
            "  return dispatch_target(*args, **kwargs)\n"
          ]
        },
        {
          "output_type": "stream",
          "name": "stdout",
          "text": [
            "7/7 [==============================] - 17s 1s/step - loss: 0.7419 - accuracy: 0.5536 - val_loss: 0.6674 - val_accuracy: 0.5667\n",
            "Epoch 2/20\n",
            "7/7 [==============================] - 8s 1s/step - loss: 0.6736 - accuracy: 0.5982 - val_loss: 0.6132 - val_accuracy: 0.6500\n",
            "Epoch 3/20\n",
            "7/7 [==============================] - 8s 1s/step - loss: 0.6193 - accuracy: 0.6250 - val_loss: 0.5691 - val_accuracy: 0.6833\n",
            "Epoch 4/20\n",
            "7/7 [==============================] - 8s 1s/step - loss: 0.5812 - accuracy: 0.7143 - val_loss: 0.5319 - val_accuracy: 0.8167\n",
            "Epoch 5/20\n",
            "7/7 [==============================] - 8s 1s/step - loss: 0.5356 - accuracy: 0.7768 - val_loss: 0.4996 - val_accuracy: 0.8667\n",
            "Epoch 6/20\n",
            "7/7 [==============================] - 8s 1s/step - loss: 0.5063 - accuracy: 0.8036 - val_loss: 0.4707 - val_accuracy: 0.8833\n",
            "Epoch 7/20\n",
            "7/7 [==============================] - 8s 1s/step - loss: 0.4534 - accuracy: 0.8750 - val_loss: 0.4444 - val_accuracy: 0.9000\n",
            "Epoch 8/20\n",
            "7/7 [==============================] - 8s 1s/step - loss: 0.4499 - accuracy: 0.8348 - val_loss: 0.4202 - val_accuracy: 0.9167\n",
            "Epoch 9/20\n",
            "7/7 [==============================] - 8s 1s/step - loss: 0.4263 - accuracy: 0.8929 - val_loss: 0.3977 - val_accuracy: 0.9167\n",
            "Epoch 10/20\n",
            "7/7 [==============================] - 8s 1s/step - loss: 0.3934 - accuracy: 0.9152 - val_loss: 0.3773 - val_accuracy: 0.9167\n",
            "Epoch 11/20\n",
            "7/7 [==============================] - 8s 1s/step - loss: 0.3724 - accuracy: 0.9286 - val_loss: 0.3585 - val_accuracy: 0.9500\n",
            "Epoch 12/20\n",
            "7/7 [==============================] - 8s 1s/step - loss: 0.3831 - accuracy: 0.8929 - val_loss: 0.3412 - val_accuracy: 0.9500\n",
            "Epoch 13/20\n",
            "7/7 [==============================] - 8s 1s/step - loss: 0.3407 - accuracy: 0.9241 - val_loss: 0.3249 - val_accuracy: 0.9500\n",
            "Epoch 14/20\n",
            "7/7 [==============================] - 8s 1s/step - loss: 0.3316 - accuracy: 0.9330 - val_loss: 0.3101 - val_accuracy: 0.9500\n",
            "Epoch 15/20\n",
            "7/7 [==============================] - 8s 1s/step - loss: 0.3066 - accuracy: 0.9464 - val_loss: 0.2967 - val_accuracy: 0.9667\n",
            "Epoch 16/20\n",
            "7/7 [==============================] - 8s 1s/step - loss: 0.2966 - accuracy: 0.9420 - val_loss: 0.2844 - val_accuracy: 0.9667\n",
            "Epoch 17/20\n",
            "7/7 [==============================] - 8s 1s/step - loss: 0.2943 - accuracy: 0.9420 - val_loss: 0.2729 - val_accuracy: 0.9667\n",
            "Epoch 18/20\n",
            "7/7 [==============================] - 8s 1s/step - loss: 0.2736 - accuracy: 0.9509 - val_loss: 0.2622 - val_accuracy: 0.9833\n",
            "Epoch 19/20\n",
            "7/7 [==============================] - 8s 1s/step - loss: 0.2785 - accuracy: 0.9420 - val_loss: 0.2522 - val_accuracy: 0.9833\n",
            "Epoch 20/20\n",
            "7/7 [==============================] - 8s 1s/step - loss: 0.2500 - accuracy: 0.9643 - val_loss: 0.2429 - val_accuracy: 0.9833\n",
            "FINAL ACCURACY MEAN-5:  0.9766666650772095\n",
            "TRAINING TIME:  182.76911783218384  sec\n"
          ]
        }
      ]
    },
    {
      "cell_type": "code",
      "source": [
        "model.evaluate(test_ds)"
      ],
      "metadata": {
        "colab": {
          "base_uri": "https://localhost:8080/"
        },
        "id": "PlxCocu1FWRt",
        "outputId": "a3dfd695-14c6-442c-d57b-d42606a2a828"
      },
      "execution_count": null,
      "outputs": [
        {
          "output_type": "stream",
          "name": "stdout",
          "text": [
            "2/2 [==============================] - 1s 227ms/step - loss: 0.3217 - accuracy: 0.9500\n"
          ]
        },
        {
          "output_type": "execute_result",
          "data": {
            "text/plain": [
              "[0.32168418169021606, 0.949999988079071]"
            ]
          },
          "metadata": {},
          "execution_count": 48
        }
      ]
    },
    {
      "cell_type": "code",
      "source": [
        "def plot_history(history, metric, val_metric):\n",
        "  acc = history.history[metric]\n",
        "  val_acc = history.history[val_metric]\n",
        "\n",
        "  loss=history.history['loss']\n",
        "  val_loss=history.history['val_loss']\n",
        "\n",
        "  epochs_range = range(len(acc))\n",
        "\n",
        "  fig=plt.figure(figsize=(12, 8))\n",
        "  plt.subplot(1, 2, 1)\n",
        "  plt.plot(epochs_range, acc, label='Training Accuracy')\n",
        "  plt.plot(epochs_range, val_acc, label='Validation Accuracy')\n",
        "  plt.legend(loc='lower right')\n",
        "  plt.ylim([min(plt.ylim()),1])\n",
        "  plt.grid(True)\n",
        "  plt.title('Training and Validation Accuracy')\n",
        "\n",
        "  plt.subplot(1, 2, 2)\n",
        "  plt.plot(epochs_range, loss, label='Training Loss')\n",
        "  plt.plot(epochs_range, val_loss, label='Validation Loss')\n",
        "  plt.legend(loc='upper right')\n",
        "  plt.grid(True)\n",
        "  plt.title('Training and Validation Loss')\n",
        "  plt.show()\n",
        "  fig.savefig('traininghistory.pdf')\n",
        "\n",
        "plot_history(history, 'accuracy', 'val_accuracy')"
      ],
      "metadata": {
        "colab": {
          "base_uri": "https://localhost:8080/",
          "height": 499
        },
        "id": "OR0iE2TEKkNh",
        "outputId": "1758b334-0d53-4bda-da1b-87ba83a530df"
      },
      "execution_count": null,
      "outputs": [
        {
          "output_type": "display_data",
          "data": {
            "text/plain": [
              "<Figure size 864x576 with 2 Axes>"
            ],
            "image/png": "[encoded data removed]"
          },
          "metadata": {
            "needs_background": "light"
          }
        }
      ]
    },
    {
      "cell_type": "code",
      "source": [
        "#Retrieve a batch of images from the test set\n",
        "image_batch, label_batch = val_ds.as_numpy_iterator().next()"
      ],
      "metadata": {
        "id": "nN5F6_F3K9DW"
      },
      "execution_count": null,
      "outputs": []
    },
    {
      "cell_type": "code",
      "source": [
        "predicted_batch = model.predict(image_batch)\n",
        "predicted_batch"
      ],
      "metadata": {
        "colab": {
          "base_uri": "https://localhost:8080/"
        },
        "id": "Rtb-Bvi8LGBr",
        "outputId": "738406e7-10ee-44dc-8bcb-eef0285edd8c"
      },
      "execution_count": null,
      "outputs": [
        {
          "output_type": "execute_result",
          "data": {
            "text/plain": [
              "array([[0.84224   , 0.15776008],\n",
              "       [0.13873497, 0.86126506],\n",
              "       [0.19734113, 0.80265886],\n",
              "       [0.69793427, 0.30206576],\n",
              "       [0.1164069 , 0.883593  ],\n",
              "       [0.9189106 , 0.08108944],\n",
              "       [0.87128097, 0.12871897],\n",
              "       [0.815032  , 0.18496795],\n",
              "       [0.21437022, 0.7856298 ],\n",
              "       [0.10471265, 0.89528733],\n",
              "       [0.15000498, 0.8499951 ],\n",
              "       [0.23017392, 0.7698261 ],\n",
              "       [0.08534849, 0.91465145],\n",
              "       [0.21386202, 0.786138  ],\n",
              "       [0.16315527, 0.83684474],\n",
              "       [0.09731971, 0.9026803 ],\n",
              "       [0.8163308 , 0.18366921],\n",
              "       [0.7628962 , 0.2371038 ],\n",
              "       [0.81211287, 0.18788716],\n",
              "       [0.9134644 , 0.08653553],\n",
              "       [0.11733703, 0.88266295],\n",
              "       [0.8712132 , 0.12878674],\n",
              "       [0.63998866, 0.3600113 ],\n",
              "       [0.14532869, 0.85467136],\n",
              "       [0.4428958 , 0.55710423],\n",
              "       [0.42141664, 0.57858336],\n",
              "       [0.43487102, 0.5651289 ],\n",
              "       [0.11670981, 0.88329023],\n",
              "       [0.20358151, 0.7964185 ],\n",
              "       [0.8604644 , 0.13953562],\n",
              "       [0.8412988 , 0.15870124],\n",
              "       [0.71070945, 0.28929058]], dtype=float32)"
            ]
          },
          "metadata": {},
          "execution_count": 51
        }
      ]
    },
    {
      "cell_type": "code",
      "source": [
        "converter = tf.lite.TFLiteConverter.from_keras_model(model)\n",
        "tflite_model = converter.convert()\n",
        "\n",
        "with open(\"model.tflite\", 'wb') as f:\n",
        "  f.write(tflite_model)"
      ],
      "metadata": {
        "colab": {
          "base_uri": "https://localhost:8080/"
        },
        "id": "8TbbXr4IMpER",
        "outputId": "bd0f331c-d91e-49dd-f89c-d411f8d04c45"
      },
      "execution_count": null,
      "outputs": [
        {
          "output_type": "stream",
          "name": "stdout",
          "text": [
            "INFO:tensorflow:Assets written to: /tmp/tmphamydxt5/assets\n"
          ]
        },
        {
          "output_type": "stream",
          "name": "stderr",
          "text": [
            "WARNING:absl:Buffer deduplication procedure will be skipped when flatbuffer library is not properly loaded\n"
          ]
        }
      ]
    }
  ]
}